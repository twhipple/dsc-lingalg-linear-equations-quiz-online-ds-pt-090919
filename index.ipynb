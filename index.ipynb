{
 "cells": [
  {
   "cell_type": "markdown",
   "metadata": {},
   "source": [
    "# Systems of Linear Equations - Lab\n",
    "\n",
    "## Introduction\n",
    "The following scenarios present problems that can be solved as a system of equations while performing substitutions and eliminations as you saw in the previous lesson.\n",
    "\n",
    "* Solve these problems by hand, showing all the steps to work out the unknown variable values \n",
    "* Verify your answers by showing the calculated values satisfy all equations\n",
    "\n",
    "## Objectives\n",
    "\n",
    "In this lab you will: \n",
    "\n",
    "- Solve a system of equations using elimination and substitution\n",
    "\n",
    "## Exercise 1\n",
    "Jane paid 12 dollars for 4 cups of coffee and 4 cups of tea. 3 cups of coffee cost as much as 2 cups of tea. What would be the total cost of 5 cups of coffee and 5 cups of tea?\n",
    "\n",
    "### Solution\n",
    "\n",
    "> Let $x$ be the unit price of coffee and $y$ be the unit price of tea"
   ]
  },
  {
   "cell_type": "raw",
   "metadata": {},
   "source": [
    "# Your solution here \n",
    "\n",
    "4c + 4t = 12\n",
    "3c = 2t\n",
    "3c - 2t = 0 \n",
    "\n",
    "2(3c - 2t = 0)\n",
    "6c - 4t = 0\n",
    "\n",
    "    4c + 4t = 12\n",
    "+   6c - 4t = 0\n",
    "   10c     = 12\n",
    "     c = 12/10\n",
    "        \n",
    "3c - 2t = 0        \n",
    "3(6/5) - 2t = 0\n",
    "18/5 = 2t\n",
    "t = 9/5\n",
    "\n",
    "5c + 5t =\n",
    "5(12/10) + 5(9/5) = 6 + 9 = $15\n",
    "\n",
    "# Answer: 5 cups of tea and 5 cups of coffee = 15 dollars"
   ]
  },
  {
   "cell_type": "markdown",
   "metadata": {},
   "source": [
    "## Exercise 2\n",
    "\n",
    "Jim has more money than Bob. If Jim gave Bob 20 dollars, they would have the same amount. If Bob gave Jim 22 dollars, however, Jim would then have twice as much as Bob. \n",
    "\n",
    "How much does each one actually have?\n",
    "\n",
    "### Solution\n",
    "> Let x be the amount of money that Jim has and y be the amount that Bob has "
   ]
  },
  {
   "cell_type": "raw",
   "metadata": {},
   "source": [
    "# Your solution here \n",
    "j > b\n",
    "j - 20 = b + 20\n",
    "\n",
    "j + 22 = 2(b - 22)\n",
    "j + 22 = 2b - 44\n",
    "j - 2b = -66\n",
    "\n",
    "x - y = 40\n",
    "x - 2y = -66\n",
    "\n",
    "   x - y = 40      (-1 - -2 = 1)\n",
    "-  x - 2y = -22   (40 - -66 = 106)\n",
    "      y = 106\n",
    "      \n",
    "x - (106) = 40\n",
    "x = 146\n",
    "\n",
    "\n",
    "# Answer:\n",
    "# y = 106 (Bob's amount)\n",
    "# x = 146 (Jim's amount)"
   ]
  },
  {
   "cell_type": "markdown",
   "metadata": {},
   "source": [
    "## Exercise 3\n",
    "\n",
    "Mia has 30 coins, consisting of quarters (25 cents) and dimes (10 cents), which totals to the amount 5.70 dollars.  \n",
    "How many of each does she have?\n",
    "\n",
    "### Solution\n",
    "\n",
    "> Let x be the number of quarters and y be the number of dimes "
   ]
  },
  {
   "cell_type": "raw",
   "metadata": {},
   "source": [
    "# Your solution here \n",
    "\n",
    "q + d = 30\n",
    "0.25q + 0.10d = 5.70\n",
    "\n",
    "-0.10(q + d = 30)\n",
    "-0.10q - 0.10d = -3\n",
    "\n",
    "   0.25q + 0.10d = 5.70\n",
    "+ -0.10q - 0.10d = -3.00\n",
    "   0.15q     0d  = 2.70\n",
    "       q         = 18\n",
    "       \n",
    "q + d = 30\n",
    "(18) + d = 30\n",
    "d = 12\n",
    "\n",
    "\n",
    "# Answer:\n",
    "# x = 18 quarters\n",
    "# y = 12 dimes"
   ]
  },
  {
   "cell_type": "markdown",
   "metadata": {},
   "source": [
    "## Level up (Optional)\n",
    "For more practice with linear equations, visit the following links for more complex equations:\n",
    "\n",
    "* https://www.transum.org/software/SW/Starter_of_the_day/Students/Simultaneous_Equations.asp?Level=6\n",
    "* https://www.transum.org/software/SW/Starter_of_the_day/Students/Simultaneous_Equations.asp?Level=7\n",
    "\n",
    "## Summary\n",
    "\n",
    "In this lesson, you learned how to solve linear equations by hand to find the coefficient values. You'll now move forward to have a deeper look into vectors and matrices and how Python and NumPy can help us solve more complex equations in an analytical context. "
   ]
  }
 ],
 "metadata": {
  "kernelspec": {
   "display_name": "learn-env",
   "language": "python",
   "name": "learn-env"
  },
  "language_info": {
   "codemirror_mode": {
    "name": "ipython",
    "version": 3
   },
   "file_extension": ".py",
   "mimetype": "text/x-python",
   "name": "python",
   "nbconvert_exporter": "python",
   "pygments_lexer": "ipython3",
   "version": "3.6.6"
  }
 },
 "nbformat": 4,
 "nbformat_minor": 2
}
